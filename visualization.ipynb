{
 "cells": [
  {
   "attachments": {},
   "cell_type": "markdown",
   "metadata": {},
   "source": [
    "# Visualization and results\n",
    "\n",
    "The following notebook is used to visualize the outputs from the deep learning models as well as the comparison methods. Additionally, there is functionality for generating result metrics that can also be found in the papers that come out of this work.\n",
    "\n",
    "\n",
    "Author: Akshay Aravamudan\n",
    "Last edited: January 1st 2023"
   ]
  },
  {
   "attachments": {},
   "cell_type": "markdown",
   "metadata": {},
   "source": [
    "## Imports"
   ]
  },
  {
   "cell_type": "code",
   "execution_count": null,
   "metadata": {},
   "outputs": [],
   "source": [
    "import numpy as np\n",
    "import matplotlib.pyplot as plt\n",
    "\n",
    "from dataset_classes import *\n",
    "from Interpolation import *\n",
    "from Downscaler import *\n",
    "from Distance_Ranking import *\n",
    "from RDN import *\n",
    "from RCAN import *\n",
    "import torch\n",
    "import sys\n",
    "from torch.utils.data.dataloader import DataLoader\n",
    "import numpy as np\n",
    "from mlxtend.evaluate import mcnemar_table\n",
    "from mlxtend.evaluate import mcnemar\n",
    "from sklearn.metrics import confusion_matrix\n",
    "from sklearn.metrics import matthews_corrcoef"
   ]
  },
  {
   "attachments": {},
   "cell_type": "markdown",
   "metadata": {},
   "source": [
    "## Utility functions"
   ]
  },
  {
   "cell_type": "code",
   "execution_count": null,
   "metadata": {},
   "outputs": [],
   "source": [
    "def load_pytorch_models(model_name, input_type):\n",
    "    config = {}\n",
    "    config['run_dir'] = 'runs/run_final'\n",
    "    config['model_type'] = model_name\n",
    "    config['topo_inclusion'] = input_type\n",
    "\n",
    "    device = f\"cuda:0\"\n",
    "    device = torch.device(device if torch.cuda.is_available() else \"cpu\")\n",
    "\n",
    "\n",
    "    model_dict = np.load(config['run_dir'] + '/best_model'+config['model_type']+config['topo_inclusion']+'.npy', allow_pickle=True).item()\n",
    "    if model_name == 'RDN':\n",
    "      model = RDN(scale_factor=8,\n",
    "                  num_channels=1,\n",
    "                  num_features=model_dict['num_features'],\n",
    "                  growth_rate=model_dict['num_features'],\n",
    "                  num_blocks=model_dict['num_blocks'],\n",
    "                  num_layers=model_dict['num_layers'],\n",
    "                  topo_inclusion=config['topo_inclusion'],\n",
    "                  dropout_prob_input=model_dict['dropout_prob_input'],\n",
    "                  dropout_prob_topo_1=model_dict['dropout_prob_topo_1'],\n",
    "                  dropout_prob_topo_2=model_dict['dropout_prob_topo_2']\n",
    "                  ).to(device)\n",
    "    else:\n",
    "      model = RCAN(scale=8, \n",
    "                  num_features=model_dict['num_features'], \n",
    "                  num_rg=model_dict['num_rg'], \n",
    "                  num_rcab=model_dict['num_rcab'], \n",
    "                  reduction=model_dict['reduction'],\n",
    "                  topo_inclusion=config['topo_inclusion'],\n",
    "                  dropout_prob_input=model_dict['dropout_prob_input'],\n",
    "                  dropout_prob_topo_1=model_dict['dropout_prob_topo_1'],\n",
    "                  dropout_prob_topo_2=model_dict['dropout_prob_topo_2']).to(device)\n",
    "\n",
    "    model.load_state_dict(torch.load(config['run_dir']+'/best_model'+config['model_type']+config['topo_inclusion']+'.h5',map_location=torch.device('cpu')))\n",
    "    # model.eval()\n",
    "    \n",
    "    return model, device"
   ]
  }
 ],
 "metadata": {
  "kernelspec": {
   "display_name": "virtualenvcasper",
   "language": "python",
   "name": "python3"
  },
  "language_info": {
   "name": "python",
   "version": "3.7.9 (default, Dec 20 2020, 15:15:51) \n[GCC 9.1.0]"
  },
  "orig_nbformat": 4,
  "vscode": {
   "interpreter": {
    "hash": "a932df1e9cbf26ed78975a09f5ea57e6b2a1c0d3c9c6f89c8174356145ee26af"
   }
  }
 },
 "nbformat": 4,
 "nbformat_minor": 2
}
